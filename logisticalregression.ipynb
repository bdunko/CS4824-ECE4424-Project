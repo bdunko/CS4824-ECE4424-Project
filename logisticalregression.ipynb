{
 "nbformat": 4,
 "nbformat_minor": 0,
 "metadata": {
  "colab": {
   "name": "project.ipynb",
   "provenance": [],
   "collapsed_sections": []
  },
  "kernelspec": {
   "name": "python3",
   "display_name": "Python 3"
  },
  "language_info": {
   "name": "python"
  }
 },
 "cells": [
  {
   "cell_type": "code",
   "execution_count": 65,
   "metadata": {
    "id": "asoeNDfTzkFC"
   },
   "outputs": [],
   "source": [
    "from sklearn.model_selection import train_test_split\n",
    "from sklearn.model_selection import KFold\n",
    "from sklearn.linear_model import LogisticRegression\n",
    "from sklearn.naive_bayes import GaussianNB\n",
    "import pandas as pd\n",
    "import csv"
   ]
  },
  {
   "cell_type": "code",
   "source": [
    "with open('lrdataset.csv', 'r') as datacsv:\n",
    "    column_names = next(datacsv).replace('\\n', '').split(',')\n",
    "    dataset = csv.reader(datacsv)\n",
    "    dataset = pd.DataFrame([row for row in dataset], columns=column_names)\n",
    "#print(dataset)"
   ],
   "metadata": {
    "colab": {
     "base_uri": "https://localhost:8080/",
     "height": 235
    },
    "id": "-LzV3qNv0YWQ",
    "outputId": "ec368376-6a23-4aaa-9079-1b94f23fecf1"
   },
   "execution_count": 66,
   "outputs": []
  },
  {
   "cell_type": "code",
   "execution_count": 67,
   "outputs": [],
   "source": [
    "dataset2 = dataset.drop(\"T1P1SUMMONERLEVEL\", axis=1).drop(\"T1P2SUMMONERLEVEL\", axis=1).drop(\"T1P3SUMMONERLEVEL\", axis=1).drop(\"T1P4SUMMONERLEVEL\", axis=1).drop(\"T1P5SUMMONERLEVEL\", axis=1).drop(\"T2P1SUMMONERLEVEL\", axis=1).drop(\"T2P2SUMMONERLEVEL\", axis=1).drop(\"T2P3SUMMONERLEVEL\", axis=1).drop(\"T2P4SUMMONERLEVEL\", axis=1).drop(\"T2P5SUMMONERLEVEL\", axis=1)"
   ],
   "metadata": {
    "collapsed": false,
    "pycharm": {
     "name": "#%%\n"
    }
   }
  },
  {
   "cell_type": "code",
   "execution_count": 68,
   "outputs": [],
   "source": [
    "datasets = [dataset, dataset2]"
   ],
   "metadata": {
    "collapsed": false,
    "pycharm": {
     "name": "#%%\n"
    }
   }
  },
  {
   "cell_type": "code",
   "source": [
    "for ds in datasets:\n",
    "    x_train, x_test, y_train, y_test = train_test_split(ds.iloc[:,:-1], ds['WINNINGTEAM'], test_size=0.2)\n",
    "    # print(x_train, x_test, y_train, y_test)\n",
    "    logisticRegression = LogisticRegression(max_iter=10000)\n",
    "    logisticRegression.fit(x_train, y_train)\n",
    "    #predictions = logisticRegression.predict(x_test)\n",
    "    score = logisticRegression.score(x_test, y_test)\n",
    "    print(score)"
   ],
   "metadata": {
    "id": "7MSa3BGg0aKS",
    "pycharm": {
     "name": "#%%\n",
     "is_executing": true
    }
   },
   "execution_count": null,
   "outputs": []
  },
  {
   "cell_type": "code",
   "execution_count": null,
   "outputs": [],
   "source": [
    "# playing with Naive Bayes using only champions\n",
    "datasetnb = dataset.copy(deep=True)\n",
    "for column in column_names:\n",
    "    for i in range(1, 3):\n",
    "        for i2 in range(1, 6):\n",
    "            if(\"T%dP%d\" % (i, i2) in column):\n",
    "                datasetnb = datasetnb.drop(column, axis=1)\n",
    "# print(datasetnb)\n",
    "\n",
    "x_train, x_test, y_train, y_test = train_test_split(datasetnb.iloc[:,:-1], datasetnb['WINNINGTEAM'], test_size=0.2)\n",
    "gnb = GaussianNB()\n",
    "gnb.fit(x_train, y_train)\n",
    "score = gnb.score(x_test, y_test)\n",
    "print(score)"
   ],
   "metadata": {
    "collapsed": false,
    "pycharm": {
     "name": "#%%\n",
     "is_executing": true
    }
   }
  },
  {
   "cell_type": "code",
   "execution_count": null,
   "outputs": [],
   "source": [],
   "metadata": {
    "collapsed": false,
    "pycharm": {
     "name": "#%%\n",
     "is_executing": true
    }
   }
  }
 ]
}